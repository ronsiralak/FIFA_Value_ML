{
 "cells": [
  {
   "cell_type": "code",
   "execution_count": 13,
   "metadata": {},
   "outputs": [],
   "source": [
    "import joblib"
   ]
  },
  {
   "cell_type": "code",
   "execution_count": 14,
   "metadata": {},
   "outputs": [],
   "source": [
    "# Load your SVR model\n",
    "model_path = 'SVR_model.joblib'  # Replace with the correct relative path\n",
    "loaded_model = joblib.load(model_path)\n",
    "\n",
    "# Function to predict using the loaded model\n",
    "def predict_value(overall, potential, wage_eur,  release_clause_eur):\n",
    "    try:\n",
    "        # Use the loaded model to make predictions\n",
    "        predicted_value = loaded_model.predict([[\n",
    "            overall, potential, wage_eur,  release_clause_eur\n",
    "        ]])[0]\n",
    "        return predicted_value\n",
    "    except Exception as e:\n",
    "        return str(e)"
   ]
  },
  {
   "cell_type": "code",
   "execution_count": 15,
   "metadata": {},
   "outputs": [
    {
     "name": "stdout",
     "output_type": "stream",
     "text": [
      "Overall: 80.0\n",
      "Potential: 70.0\n",
      "Wage (EUR): 50000.0\n",
      "Release Clause (EUR): 1000000.0\n"
     ]
    }
   ],
   "source": [
    "\n",
    "# Input values for prediction\n",
    "overall = float(input(\"Overall: \"))\n",
    "print(f\"Overall: {overall}\")\n",
    "\n",
    "potential = float(input(\"Potential: \"))\n",
    "print(f\"Potential: {potential}\")\n",
    "\n",
    "wage_eur = float(input(\"Wage (EUR): \"))\n",
    "print(f\"Wage (EUR): {wage_eur}\")\n",
    "\n",
    "release_clause_eur = float(input(\"Release Clause (EUR): \"))\n",
    "print(f\"Release Clause (EUR): {release_clause_eur}\")"
   ]
  },
  {
   "cell_type": "code",
   "execution_count": 18,
   "metadata": {},
   "outputs": [
    {
     "name": "stdout",
     "output_type": "stream",
     "text": [
      "Predicted Next Years Value: 597017.21\n"
     ]
    }
   ],
   "source": [
    "# Make a prediction\n",
    "predicted_value = predict_value(\n",
    "    overall, potential, wage_eur,release_clause_eur\n",
    ")\n",
    "\n",
    "# Display the predicted value\n",
    "print('Predicted Next Years Value: %.2f' %predicted_value)"
   ]
  }
 ],
 "metadata": {
  "kernelspec": {
   "display_name": "Python 3",
   "language": "python",
   "name": "python3"
  },
  "language_info": {
   "codemirror_mode": {
    "name": "ipython",
    "version": 3
   },
   "file_extension": ".py",
   "mimetype": "text/x-python",
   "name": "python",
   "nbconvert_exporter": "python",
   "pygments_lexer": "ipython3",
   "version": "3.11.0"
  },
  "orig_nbformat": 4
 },
 "nbformat": 4,
 "nbformat_minor": 2
}
